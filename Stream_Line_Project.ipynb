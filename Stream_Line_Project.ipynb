{
  "cells": [
    {
      "cell_type": "markdown",
      "metadata": {
        "id": "dT9AQwdf8sJK"
      },
      "source": [
        "\n",
        "\n",
        "---\n",
        "\n"
      ]
    },
    {
      "cell_type": "code",
      "source": [
        "# Install Bark AI and other dependencies\n",
        "!pip install git+https://github.com/suno-ai/bark.git\n",
        "!pip install moviepy pydub\n"
      ],
      "metadata": {
        "id": "Jk8E0MF864x8",
        "outputId": "c3a6a4b0-1bf4-4d74-c413-ef862b2d156e",
        "colab": {
          "base_uri": "https://localhost:8080/"
        }
      },
      "execution_count": null,
      "outputs": [
        {
          "output_type": "stream",
          "name": "stdout",
          "text": [
            "Collecting git+https://github.com/suno-ai/bark.git\n",
            "  Cloning https://github.com/suno-ai/bark.git to /tmp/pip-req-build-3d6af2ck\n",
            "  Running command git clone --filter=blob:none --quiet https://github.com/suno-ai/bark.git /tmp/pip-req-build-3d6af2ck\n",
            "  Resolved https://github.com/suno-ai/bark.git to commit f4f32d4cd480dfec1c245d258174bc9bde3c2148\n",
            "  Installing build dependencies ... \u001b[?25l\u001b[?25hdone\n",
            "  Getting requirements to build wheel ... \u001b[?25l\u001b[?25hdone\n",
            "  Preparing metadata (pyproject.toml) ... \u001b[?25l\u001b[?25hdone\n",
            "Collecting boto3 (from suno-bark==0.0.1a0)\n",
            "  Downloading boto3-1.35.93-py3-none-any.whl.metadata (6.7 kB)\n",
            "Collecting encodec (from suno-bark==0.0.1a0)\n",
            "  Downloading encodec-0.1.1.tar.gz (3.7 MB)\n",
            "\u001b[2K     \u001b[90m━━━━━━━━━━━━━━━━━━━━━━━━━━━━━━━━━━━━━━━━\u001b[0m \u001b[32m3.7/3.7 MB\u001b[0m \u001b[31m39.6 MB/s\u001b[0m eta \u001b[36m0:00:00\u001b[0m\n",
            "\u001b[?25h  Preparing metadata (setup.py) ... \u001b[?25l\u001b[?25hdone\n",
            "Collecting funcy (from suno-bark==0.0.1a0)\n",
            "  Downloading funcy-2.0-py2.py3-none-any.whl.metadata (5.9 kB)\n",
            "Requirement already satisfied: huggingface-hub>=0.14.1 in /usr/local/lib/python3.10/dist-packages (from suno-bark==0.0.1a0) (0.27.0)\n",
            "Requirement already satisfied: numpy in /usr/local/lib/python3.10/dist-packages (from suno-bark==0.0.1a0) (1.26.4)\n",
            "Requirement already satisfied: scipy in /usr/local/lib/python3.10/dist-packages (from suno-bark==0.0.1a0) (1.13.1)\n",
            "Requirement already satisfied: tokenizers in /usr/local/lib/python3.10/dist-packages (from suno-bark==0.0.1a0) (0.21.0)\n",
            "Requirement already satisfied: torch in /usr/local/lib/python3.10/dist-packages (from suno-bark==0.0.1a0) (2.5.1+cu121)\n",
            "Requirement already satisfied: tqdm in /usr/local/lib/python3.10/dist-packages (from suno-bark==0.0.1a0) (4.67.1)\n",
            "Requirement already satisfied: transformers in /usr/local/lib/python3.10/dist-packages (from suno-bark==0.0.1a0) (4.47.1)\n",
            "Requirement already satisfied: filelock in /usr/local/lib/python3.10/dist-packages (from huggingface-hub>=0.14.1->suno-bark==0.0.1a0) (3.16.1)\n",
            "Requirement already satisfied: fsspec>=2023.5.0 in /usr/local/lib/python3.10/dist-packages (from huggingface-hub>=0.14.1->suno-bark==0.0.1a0) (2024.10.0)\n",
            "Requirement already satisfied: packaging>=20.9 in /usr/local/lib/python3.10/dist-packages (from huggingface-hub>=0.14.1->suno-bark==0.0.1a0) (24.2)\n",
            "Requirement already satisfied: pyyaml>=5.1 in /usr/local/lib/python3.10/dist-packages (from huggingface-hub>=0.14.1->suno-bark==0.0.1a0) (6.0.2)\n",
            "Requirement already satisfied: requests in /usr/local/lib/python3.10/dist-packages (from huggingface-hub>=0.14.1->suno-bark==0.0.1a0) (2.32.3)\n",
            "Requirement already satisfied: typing-extensions>=3.7.4.3 in /usr/local/lib/python3.10/dist-packages (from huggingface-hub>=0.14.1->suno-bark==0.0.1a0) (4.12.2)\n",
            "Collecting botocore<1.36.0,>=1.35.93 (from boto3->suno-bark==0.0.1a0)\n",
            "  Downloading botocore-1.35.93-py3-none-any.whl.metadata (5.7 kB)\n",
            "Collecting jmespath<2.0.0,>=0.7.1 (from boto3->suno-bark==0.0.1a0)\n",
            "  Downloading jmespath-1.0.1-py3-none-any.whl.metadata (7.6 kB)\n",
            "Collecting s3transfer<0.11.0,>=0.10.0 (from boto3->suno-bark==0.0.1a0)\n",
            "  Downloading s3transfer-0.10.4-py3-none-any.whl.metadata (1.7 kB)\n",
            "Requirement already satisfied: torchaudio in /usr/local/lib/python3.10/dist-packages (from encodec->suno-bark==0.0.1a0) (2.5.1+cu121)\n",
            "Requirement already satisfied: einops in /usr/local/lib/python3.10/dist-packages (from encodec->suno-bark==0.0.1a0) (0.8.0)\n",
            "Requirement already satisfied: networkx in /usr/local/lib/python3.10/dist-packages (from torch->suno-bark==0.0.1a0) (3.4.2)\n",
            "Requirement already satisfied: jinja2 in /usr/local/lib/python3.10/dist-packages (from torch->suno-bark==0.0.1a0) (3.1.4)\n",
            "Requirement already satisfied: sympy==1.13.1 in /usr/local/lib/python3.10/dist-packages (from torch->suno-bark==0.0.1a0) (1.13.1)\n",
            "Requirement already satisfied: mpmath<1.4,>=1.1.0 in /usr/local/lib/python3.10/dist-packages (from sympy==1.13.1->torch->suno-bark==0.0.1a0) (1.3.0)\n",
            "Requirement already satisfied: regex!=2019.12.17 in /usr/local/lib/python3.10/dist-packages (from transformers->suno-bark==0.0.1a0) (2024.11.6)\n",
            "Requirement already satisfied: safetensors>=0.4.1 in /usr/local/lib/python3.10/dist-packages (from transformers->suno-bark==0.0.1a0) (0.4.5)\n",
            "Requirement already satisfied: python-dateutil<3.0.0,>=2.1 in /usr/local/lib/python3.10/dist-packages (from botocore<1.36.0,>=1.35.93->boto3->suno-bark==0.0.1a0) (2.8.2)\n",
            "Requirement already satisfied: urllib3!=2.2.0,<3,>=1.25.4 in /usr/local/lib/python3.10/dist-packages (from botocore<1.36.0,>=1.35.93->boto3->suno-bark==0.0.1a0) (2.2.3)\n",
            "Requirement already satisfied: MarkupSafe>=2.0 in /usr/local/lib/python3.10/dist-packages (from jinja2->torch->suno-bark==0.0.1a0) (3.0.2)\n",
            "Requirement already satisfied: charset-normalizer<4,>=2 in /usr/local/lib/python3.10/dist-packages (from requests->huggingface-hub>=0.14.1->suno-bark==0.0.1a0) (3.4.0)\n",
            "Requirement already satisfied: idna<4,>=2.5 in /usr/local/lib/python3.10/dist-packages (from requests->huggingface-hub>=0.14.1->suno-bark==0.0.1a0) (3.10)\n",
            "Requirement already satisfied: certifi>=2017.4.17 in /usr/local/lib/python3.10/dist-packages (from requests->huggingface-hub>=0.14.1->suno-bark==0.0.1a0) (2024.12.14)\n",
            "Requirement already satisfied: six>=1.5 in /usr/local/lib/python3.10/dist-packages (from python-dateutil<3.0.0,>=2.1->botocore<1.36.0,>=1.35.93->boto3->suno-bark==0.0.1a0) (1.17.0)\n",
            "Downloading boto3-1.35.93-py3-none-any.whl (139 kB)\n",
            "\u001b[2K   \u001b[90m━━━━━━━━━━━━━━━━━━━━━━━━━━━━━━━━━━━━━━━━\u001b[0m \u001b[32m139.2/139.2 kB\u001b[0m \u001b[31m13.8 MB/s\u001b[0m eta \u001b[36m0:00:00\u001b[0m\n",
            "\u001b[?25hDownloading funcy-2.0-py2.py3-none-any.whl (30 kB)\n",
            "Downloading botocore-1.35.93-py3-none-any.whl (13.3 MB)\n",
            "\u001b[2K   \u001b[90m━━━━━━━━━━━━━━━━━━━━━━━━━━━━━━━━━━━━━━━━\u001b[0m \u001b[32m13.3/13.3 MB\u001b[0m \u001b[31m105.4 MB/s\u001b[0m eta \u001b[36m0:00:00\u001b[0m\n",
            "\u001b[?25hDownloading jmespath-1.0.1-py3-none-any.whl (20 kB)\n",
            "Downloading s3transfer-0.10.4-py3-none-any.whl (83 kB)\n",
            "\u001b[2K   \u001b[90m━━━━━━━━━━━━━━━━━━━━━━━━━━━━━━━━━━━━━━━━\u001b[0m \u001b[32m83.2/83.2 kB\u001b[0m \u001b[31m8.7 MB/s\u001b[0m eta \u001b[36m0:00:00\u001b[0m\n",
            "\u001b[?25hBuilding wheels for collected packages: suno-bark, encodec\n",
            "  Building wheel for suno-bark (pyproject.toml) ... \u001b[?25l\u001b[?25hdone\n",
            "  Created wheel for suno-bark: filename=suno_bark-0.0.1a0-py3-none-any.whl size=2567357 sha256=143fdcde950d0e2fa289b8c9a01487e380a630089b324de40e688029fcf54453\n",
            "  Stored in directory: /tmp/pip-ephem-wheel-cache-9u_4hrck/wheels/e6/6d/c2/107ed849afe600f905bb4049a026df3c7c5aa75d86c2721ec7\n",
            "  Building wheel for encodec (setup.py) ... \u001b[?25l\u001b[?25hdone\n",
            "  Created wheel for encodec: filename=encodec-0.1.1-py3-none-any.whl size=45760 sha256=7e0b76f2fa36ef71f85d7ffbab10cbd7606f5adfb3e219a86b97a39ebd082351\n",
            "  Stored in directory: /root/.cache/pip/wheels/fc/36/cb/81af8b985a5f5e0815312d5e52b41263237af07b977e6bcbf3\n",
            "Successfully built suno-bark encodec\n",
            "Installing collected packages: funcy, jmespath, botocore, s3transfer, encodec, boto3, suno-bark\n",
            "Successfully installed boto3-1.35.93 botocore-1.35.93 encodec-0.1.1 funcy-2.0 jmespath-1.0.1 s3transfer-0.10.4 suno-bark-0.0.1a0\n",
            "Requirement already satisfied: moviepy in /usr/local/lib/python3.10/dist-packages (1.0.3)\n",
            "Collecting pydub\n",
            "  Downloading pydub-0.25.1-py2.py3-none-any.whl.metadata (1.4 kB)\n",
            "Requirement already satisfied: decorator<5.0,>=4.0.2 in /usr/local/lib/python3.10/dist-packages (from moviepy) (4.4.2)\n",
            "Requirement already satisfied: imageio<3.0,>=2.5 in /usr/local/lib/python3.10/dist-packages (from moviepy) (2.36.1)\n",
            "Requirement already satisfied: imageio_ffmpeg>=0.2.0 in /usr/local/lib/python3.10/dist-packages (from moviepy) (0.5.1)\n",
            "Requirement already satisfied: tqdm<5.0,>=4.11.2 in /usr/local/lib/python3.10/dist-packages (from moviepy) (4.67.1)\n",
            "Requirement already satisfied: numpy>=1.17.3 in /usr/local/lib/python3.10/dist-packages (from moviepy) (1.26.4)\n",
            "Requirement already satisfied: requests<3.0,>=2.8.1 in /usr/local/lib/python3.10/dist-packages (from moviepy) (2.32.3)\n",
            "Requirement already satisfied: proglog<=1.0.0 in /usr/local/lib/python3.10/dist-packages (from moviepy) (0.1.10)\n",
            "Requirement already satisfied: pillow>=8.3.2 in /usr/local/lib/python3.10/dist-packages (from imageio<3.0,>=2.5->moviepy) (11.0.0)\n",
            "Requirement already satisfied: setuptools in /usr/local/lib/python3.10/dist-packages (from imageio_ffmpeg>=0.2.0->moviepy) (75.1.0)\n",
            "Requirement already satisfied: charset-normalizer<4,>=2 in /usr/local/lib/python3.10/dist-packages (from requests<3.0,>=2.8.1->moviepy) (3.4.0)\n",
            "Requirement already satisfied: idna<4,>=2.5 in /usr/local/lib/python3.10/dist-packages (from requests<3.0,>=2.8.1->moviepy) (3.10)\n",
            "Requirement already satisfied: urllib3<3,>=1.21.1 in /usr/local/lib/python3.10/dist-packages (from requests<3.0,>=2.8.1->moviepy) (2.2.3)\n",
            "Requirement already satisfied: certifi>=2017.4.17 in /usr/local/lib/python3.10/dist-packages (from requests<3.0,>=2.8.1->moviepy) (2024.12.14)\n",
            "Downloading pydub-0.25.1-py2.py3-none-any.whl (32 kB)\n",
            "Installing collected packages: pydub\n",
            "Successfully installed pydub-0.25.1\n"
          ]
        }
      ]
    },
    {
      "cell_type": "code",
      "source": [
        "# Import necessary libraries\n",
        "from bark import generate_audio, SAMPLE_RATE\n",
        "from moviepy.editor import ImageClip\n",
        "from pydub import AudioSegment\n",
        "import numpy as np\n",
        "import soundfile as sf\n",
        "import IPython.display as ipd\n",
        "from google.colab import files\n",
        "\n",
        "# Define parameters for TTS\n",
        "text_input = \"Hello everyone! We're really excited to be here at C.D.P.C. Charusat for Maker Fest selection .\" #@param {type:\"string\"}\n",
        "speaker_gender = \"male\" #@param [\"male\", \"female\"]\n",
        "language = \"English\" #@param [\"English\", \"Hindi\", \"French\", \"German\"]\n",
        "# Define speaker IDs based on gender and language\n",
        "speaker_dict = {\n",
        "    \"English\": {\"male\": \"v2/en_speaker_6\", \"female\": \"v2/en_speaker_9\"},\n",
        "    \"Hindi\": {\"male\": \"v2/hi_speaker_2\", \"female\": \"v2/hi_speaker_3\"},\n",
        "    \"French\": {\"male\": \"v2/fr_speaker_4\", \"female\": \"v2/fr_speaker_5\"},\n",
        "    \"German\": {\"male\": \"v2/de_speaker_2\", \"female\": \"v2/de_speaker_3\"},\n",
        "}\n",
        "\n",
        "# Get the appropriate speaker ID\n",
        "speaker_id = speaker_dict[language][speaker_gender]\n",
        "\n",
        "# Generate audio using Bark AI with the selected speaker ID\n",
        "audio_array = generate_audio(text_input, history_prompt=speaker_id)\n",
        "\n",
        "# Save the audio as a .wav file\n",
        "wav_output_file = \"/content/input_audio.wav\"\n",
        "sf.write(wav_output_file, audio_array, SAMPLE_RATE)\n",
        "\n",
        "# Display the generated audio duration\n",
        "audio_duration = len(audio_array) / SAMPLE_RATE\n",
        "print(f\"Audio duration: {audio_duration} seconds\")\n",
        "\n",
        "# Prompt the user to upload an image\n",
        "print(\"Please upload an image:\")\n",
        "uploaded = files.upload()\n",
        "\n",
        "# Extract the uploaded file's path\n",
        "for filename in uploaded.keys():\n",
        "    image_path = f\"/content/{filename}\"\n",
        "    print(f\"Image successfully uploaded: {image_path}\")\n",
        "\n",
        "# Create a mute video with the same duration as the audio\n",
        "output_video_path = \"/content/mute_video.mp4\"\n",
        "image_clip = ImageClip(image_path, duration=audio_duration)\n",
        "\n",
        "# Write the mute video file\n",
        "image_clip.write_videofile(output_video_path, fps=24)\n",
        "\n",
        "# Display the mute video\n",
        "from IPython.display import Video\n",
        "Video(output_video_path)\n"
      ],
      "metadata": {
        "colab": {
          "base_uri": "https://localhost:8080/",
          "height": 111
        },
        "id": "xyqVtIf83pl-",
        "outputId": "c9078ed6-66bc-4d07-aab0-35a6b12a4a65"
      },
      "execution_count": null,
      "outputs": [
        {
          "metadata": {
            "tags": null
          },
          "name": "stderr",
          "output_type": "stream",
          "text": [
            "100%|██████████| 395/395 [00:07<00:00, 49.43it/s]\n",
            "100%|██████████| 20/20 [00:26<00:00,  1.30s/it]\n"
          ]
        },
        {
          "metadata": {
            "tags": null
          },
          "name": "stdout",
          "output_type": "stream",
          "text": [
            "Audio duration: 7.906666666666666 seconds\n",
            "Please upload an image:\n"
          ]
        },
        {
          "data": {
            "text/html": [
              "\n",
              "     <input type=\"file\" id=\"files-c040e96c-d94b-4874-a719-24e6f134bef2\" name=\"files[]\" multiple disabled\n",
              "        style=\"border:none\" />\n",
              "     <output id=\"result-c040e96c-d94b-4874-a719-24e6f134bef2\">\n",
              "      Upload widget is only available when the cell has been executed in the\n",
              "      current browser session. Please rerun this cell to enable.\n",
              "      </output>\n",
              "      <script>// Copyright 2017 Google LLC\n",
              "//\n",
              "// Licensed under the Apache License, Version 2.0 (the \"License\");\n",
              "// you may not use this file except in compliance with the License.\n",
              "// You may obtain a copy of the License at\n",
              "//\n",
              "//      http://www.apache.org/licenses/LICENSE-2.0\n",
              "//\n",
              "// Unless required by applicable law or agreed to in writing, software\n",
              "// distributed under the License is distributed on an \"AS IS\" BASIS,\n",
              "// WITHOUT WARRANTIES OR CONDITIONS OF ANY KIND, either express or implied.\n",
              "// See the License for the specific language governing permissions and\n",
              "// limitations under the License.\n",
              "\n",
              "/**\n",
              " * @fileoverview Helpers for google.colab Python module.\n",
              " */\n",
              "(function(scope) {\n",
              "function span(text, styleAttributes = {}) {\n",
              "  const element = document.createElement('span');\n",
              "  element.textContent = text;\n",
              "  for (const key of Object.keys(styleAttributes)) {\n",
              "    element.style[key] = styleAttributes[key];\n",
              "  }\n",
              "  return element;\n",
              "}\n",
              "\n",
              "// Max number of bytes which will be uploaded at a time.\n",
              "const MAX_PAYLOAD_SIZE = 100 * 1024;\n",
              "\n",
              "function _uploadFiles(inputId, outputId) {\n",
              "  const steps = uploadFilesStep(inputId, outputId);\n",
              "  const outputElement = document.getElementById(outputId);\n",
              "  // Cache steps on the outputElement to make it available for the next call\n",
              "  // to uploadFilesContinue from Python.\n",
              "  outputElement.steps = steps;\n",
              "\n",
              "  return _uploadFilesContinue(outputId);\n",
              "}\n",
              "\n",
              "// This is roughly an async generator (not supported in the browser yet),\n",
              "// where there are multiple asynchronous steps and the Python side is going\n",
              "// to poll for completion of each step.\n",
              "// This uses a Promise to block the python side on completion of each step,\n",
              "// then passes the result of the previous step as the input to the next step.\n",
              "function _uploadFilesContinue(outputId) {\n",
              "  const outputElement = document.getElementById(outputId);\n",
              "  const steps = outputElement.steps;\n",
              "\n",
              "  const next = steps.next(outputElement.lastPromiseValue);\n",
              "  return Promise.resolve(next.value.promise).then((value) => {\n",
              "    // Cache the last promise value to make it available to the next\n",
              "    // step of the generator.\n",
              "    outputElement.lastPromiseValue = value;\n",
              "    return next.value.response;\n",
              "  });\n",
              "}\n",
              "\n",
              "/**\n",
              " * Generator function which is called between each async step of the upload\n",
              " * process.\n",
              " * @param {string} inputId Element ID of the input file picker element.\n",
              " * @param {string} outputId Element ID of the output display.\n",
              " * @return {!Iterable<!Object>} Iterable of next steps.\n",
              " */\n",
              "function* uploadFilesStep(inputId, outputId) {\n",
              "  const inputElement = document.getElementById(inputId);\n",
              "  inputElement.disabled = false;\n",
              "\n",
              "  const outputElement = document.getElementById(outputId);\n",
              "  outputElement.innerHTML = '';\n",
              "\n",
              "  const pickedPromise = new Promise((resolve) => {\n",
              "    inputElement.addEventListener('change', (e) => {\n",
              "      resolve(e.target.files);\n",
              "    });\n",
              "  });\n",
              "\n",
              "  const cancel = document.createElement('button');\n",
              "  inputElement.parentElement.appendChild(cancel);\n",
              "  cancel.textContent = 'Cancel upload';\n",
              "  const cancelPromise = new Promise((resolve) => {\n",
              "    cancel.onclick = () => {\n",
              "      resolve(null);\n",
              "    };\n",
              "  });\n",
              "\n",
              "  // Wait for the user to pick the files.\n",
              "  const files = yield {\n",
              "    promise: Promise.race([pickedPromise, cancelPromise]),\n",
              "    response: {\n",
              "      action: 'starting',\n",
              "    }\n",
              "  };\n",
              "\n",
              "  cancel.remove();\n",
              "\n",
              "  // Disable the input element since further picks are not allowed.\n",
              "  inputElement.disabled = true;\n",
              "\n",
              "  if (!files) {\n",
              "    return {\n",
              "      response: {\n",
              "        action: 'complete',\n",
              "      }\n",
              "    };\n",
              "  }\n",
              "\n",
              "  for (const file of files) {\n",
              "    const li = document.createElement('li');\n",
              "    li.append(span(file.name, {fontWeight: 'bold'}));\n",
              "    li.append(span(\n",
              "        `(${file.type || 'n/a'}) - ${file.size} bytes, ` +\n",
              "        `last modified: ${\n",
              "            file.lastModifiedDate ? file.lastModifiedDate.toLocaleDateString() :\n",
              "                                    'n/a'} - `));\n",
              "    const percent = span('0% done');\n",
              "    li.appendChild(percent);\n",
              "\n",
              "    outputElement.appendChild(li);\n",
              "\n",
              "    const fileDataPromise = new Promise((resolve) => {\n",
              "      const reader = new FileReader();\n",
              "      reader.onload = (e) => {\n",
              "        resolve(e.target.result);\n",
              "      };\n",
              "      reader.readAsArrayBuffer(file);\n",
              "    });\n",
              "    // Wait for the data to be ready.\n",
              "    let fileData = yield {\n",
              "      promise: fileDataPromise,\n",
              "      response: {\n",
              "        action: 'continue',\n",
              "      }\n",
              "    };\n",
              "\n",
              "    // Use a chunked sending to avoid message size limits. See b/62115660.\n",
              "    let position = 0;\n",
              "    do {\n",
              "      const length = Math.min(fileData.byteLength - position, MAX_PAYLOAD_SIZE);\n",
              "      const chunk = new Uint8Array(fileData, position, length);\n",
              "      position += length;\n",
              "\n",
              "      const base64 = btoa(String.fromCharCode.apply(null, chunk));\n",
              "      yield {\n",
              "        response: {\n",
              "          action: 'append',\n",
              "          file: file.name,\n",
              "          data: base64,\n",
              "        },\n",
              "      };\n",
              "\n",
              "      let percentDone = fileData.byteLength === 0 ?\n",
              "          100 :\n",
              "          Math.round((position / fileData.byteLength) * 100);\n",
              "      percent.textContent = `${percentDone}% done`;\n",
              "\n",
              "    } while (position < fileData.byteLength);\n",
              "  }\n",
              "\n",
              "  // All done.\n",
              "  yield {\n",
              "    response: {\n",
              "      action: 'complete',\n",
              "    }\n",
              "  };\n",
              "}\n",
              "\n",
              "scope.google = scope.google || {};\n",
              "scope.google.colab = scope.google.colab || {};\n",
              "scope.google.colab._files = {\n",
              "  _uploadFiles,\n",
              "  _uploadFilesContinue,\n",
              "};\n",
              "})(self);\n",
              "</script> "
            ],
            "text/plain": [
              "<IPython.core.display.HTML object>"
            ]
          },
          "metadata": {},
          "output_type": "display_data"
        }
      ]
    },
    {
      "cell_type": "markdown",
      "metadata": {
        "id": "yJ5taGmPcWV-"
      },
      "source": [
        "# **Get the code and models**"
      ]
    },
    {
      "cell_type": "code",
      "execution_count": null,
      "metadata": {
        "id": "Qgo-oaI3JU2u",
        "cellView": "form",
        "colab": {
          "base_uri": "https://localhost:8080/"
        },
        "outputId": "7b0ec6e5-ce51-4883-e351-063091ec9194"
      },
      "outputs": [
        {
          "output_type": "stream",
          "name": "stdout",
          "text": [
            "\n",
            "Done\n"
          ]
        }
      ],
      "source": [
        "#@title <h1>Step1: Setup Wav2Lip</h1>\n",
        "#@markdown * Install dependency\n",
        "#@markdown * Download pretrained model\n",
        "!rm -rf /content/sample_data\n",
        "!mkdir /content/sample_data\n",
        "\n",
        "!git clone https://github.com/zabique/Wav2Lip\n",
        "\n",
        "#download the pretrained model\n",
        "!wget 'https://iiitaphyd-my.sharepoint.com/personal/radrabha_m_research_iiit_ac_in/_layouts/15/download.aspx?share=EdjI7bZlgApMqsVoEUUXpLsBxqXbn5z8VTmoxp55YNDcIA' -O '/content/Wav2Lip/checkpoints/wav2lip_gan.pth'\n",
        "a = !pip install https://raw.githubusercontent.com/AwaleSajil/ghc/master/ghc-1.0-py3-none-any.whl\n",
        "\n",
        "# !pip uninstall tensorflow tensorflow-gpu\n",
        "!cd Wav2Lip && pip install -r requirements.txt\n",
        "\n",
        "#download pretrained model for face detection\n",
        "!wget \"https://www.adrianbulat.com/downloads/python-fan/s3fd-619a316812.pth\" -O \"/content/Wav2Lip/face_detection/detection/sfd/s3fd.pth\"\n",
        "\n",
        "!pip install -q youtube-dl\n",
        "!pip install ffmpeg-python\n",
        "!pip install librosa==0.9.1\n",
        "\n",
        "#this code for recording audio\n",
        "\"\"\"\n",
        "To write this piece of code I took inspiration/code from a lot of places.\n",
        "It was late night, so I'm not sure how much I created or just copied o.O\n",
        "Here are some of the possible references:\n",
        "https://blog.addpipe.com/recording-audio-in-the-browser-using-pure-html5-and-minimal-javascript/\n",
        "https://stackoverflow.com/a/18650249\n",
        "https://hacks.mozilla.org/2014/06/easy-audio-capture-with-the-mediarecorder-api/\n",
        "https://air.ghost.io/recording-to-an-audio-file-using-html5-and-js/\n",
        "https://stackoverflow.com/a/49019356\n",
        "\"\"\"\n",
        "from IPython.display import HTML, Audio\n",
        "from google.colab.output import eval_js\n",
        "from base64 import b64decode\n",
        "import numpy as np\n",
        "from scipy.io.wavfile import read as wav_read\n",
        "import io\n",
        "import ffmpeg\n",
        "\n",
        "from IPython.display import clear_output\n",
        "clear_output()\n",
        "print(\"\\nDone\")"
      ]
    },
    {
      "cell_type": "markdown",
      "source": [
        "# **Audio Lip Syncing**\n",
        "\n",
        "\n"
      ],
      "metadata": {
        "id": "8m04gPsHbZzX"
      }
    },
    {
      "cell_type": "markdown",
      "metadata": {
        "id": "vzokJMO19IyY"
      },
      "source": [
        "\n",
        "\n",
        "---\n",
        "\n"
      ]
    },
    {
      "cell_type": "code",
      "execution_count": null,
      "metadata": {
        "id": "jR5utmDMcSZY",
        "colab": {
          "base_uri": "https://localhost:8080/"
        },
        "outputId": "9cf92c9d-fd30-45e2-f8ab-ef2db05ace33"
      },
      "outputs": [
        {
          "output_type": "stream",
          "name": "stdout",
          "text": [
            "Using cuda for inference.\n",
            "Reading video frames...\n",
            "Number of frames available for inference: 336\n",
            "/content/Wav2Lip/audio.py:100: FutureWarning: Pass sr=16000, n_fft=800 as keyword args. From version 0.10 passing these as positional arguments will result in an error\n",
            "  return librosa.filters.mel(hp.sample_rate, hp.n_fft, n_mels=hp.num_mels,\n",
            "(80, 1119)\n",
            "Length of mel chunks: 333\n",
            "  0% 0/3 [00:00<?, ?it/s]/content/Wav2Lip/face_detection/detection/sfd/sfd_detector.py:24: FutureWarning: You are using `torch.load` with `weights_only=False` (the current default value), which uses the default pickle module implicitly. It is possible to construct malicious pickle data which will execute arbitrary code during unpickling (See https://github.com/pytorch/pytorch/blob/main/SECURITY.md#untrusted-models for more details). In a future release, the default value for `weights_only` will be flipped to `True`. This limits the functions that could be executed during unpickling. Arbitrary objects will no longer be allowed to be loaded via this mode unless they are explicitly allowlisted by the user via `torch.serialization.add_safe_globals`. We recommend you start setting `weights_only=True` for any use case where you don't have full control of the loaded file. Please open an issue on GitHub for any issues related to this experimental feature.\n",
            "  model_weights = torch.load(path_to_detector)\n",
            "\n",
            "  0% 0/21 [00:00<?, ?it/s]\u001b[A\n",
            "  5% 1/21 [00:24<08:04, 24.24s/it]\u001b[A\n",
            " 10% 2/21 [00:26<03:32, 11.21s/it]\u001b[A\n",
            " 14% 3/21 [00:28<02:05,  6.95s/it]\u001b[A\n",
            " 19% 4/21 [00:29<01:23,  4.89s/it]\u001b[A\n",
            " 24% 5/21 [00:31<01:00,  3.77s/it]\u001b[A\n",
            " 29% 6/21 [00:33<00:47,  3.16s/it]\u001b[A\n",
            " 33% 7/21 [00:35<00:38,  2.75s/it]\u001b[A\n",
            " 38% 8/21 [00:37<00:31,  2.42s/it]\u001b[A\n",
            " 43% 9/21 [00:39<00:26,  2.20s/it]\u001b[A\n",
            " 48% 10/21 [00:40<00:22,  2.06s/it]\u001b[A\n",
            " 52% 11/21 [00:42<00:19,  1.96s/it]\u001b[A\n",
            " 57% 12/21 [00:44<00:16,  1.89s/it]\u001b[A\n",
            " 62% 13/21 [00:46<00:14,  1.86s/it]\u001b[A\n",
            " 67% 14/21 [00:48<00:13,  1.90s/it]\u001b[A\n",
            " 71% 15/21 [00:49<00:11,  1.91s/it]\u001b[A\n",
            " 76% 16/21 [00:51<00:09,  1.86s/it]\u001b[A\n",
            " 81% 17/21 [00:53<00:07,  1.82s/it]\u001b[A\n",
            " 86% 18/21 [00:55<00:05,  1.80s/it]\u001b[A\n",
            " 90% 19/21 [00:56<00:03,  1.78s/it]\u001b[A\n",
            " 95% 20/21 [00:58<00:01,  1.77s/it]\u001b[A\n",
            "100% 21/21 [01:18<00:00,  3.73s/it]\n",
            "Load checkpoint from: checkpoints/wav2lip_gan.pth\n",
            "/content/Wav2Lip/inference.py:162: FutureWarning: You are using `torch.load` with `weights_only=False` (the current default value), which uses the default pickle module implicitly. It is possible to construct malicious pickle data which will execute arbitrary code during unpickling (See https://github.com/pytorch/pytorch/blob/main/SECURITY.md#untrusted-models for more details). In a future release, the default value for `weights_only` will be flipped to `True`. This limits the functions that could be executed during unpickling. Arbitrary objects will no longer be allowed to be loaded via this mode unless they are explicitly allowlisted by the user via `torch.serialization.add_safe_globals`. We recommend you start setting `weights_only=True` for any use case where you don't have full control of the loaded file. Please open an issue on GitHub for any issues related to this experimental feature.\n",
            "  checkpoint = torch.load(checkpoint_path)\n",
            "Model loaded\n",
            "100% 3/3 [01:39<00:00, 33.01s/it]\n",
            "ffmpeg version 4.4.2-0ubuntu0.22.04.1 Copyright (c) 2000-2021 the FFmpeg developers\n",
            "  built with gcc 11 (Ubuntu 11.2.0-19ubuntu1)\n",
            "  configuration: --prefix=/usr --extra-version=0ubuntu0.22.04.1 --toolchain=hardened --libdir=/usr/lib/x86_64-linux-gnu --incdir=/usr/include/x86_64-linux-gnu --arch=amd64 --enable-gpl --disable-stripping --enable-gnutls --enable-ladspa --enable-libaom --enable-libass --enable-libbluray --enable-libbs2b --enable-libcaca --enable-libcdio --enable-libcodec2 --enable-libdav1d --enable-libflite --enable-libfontconfig --enable-libfreetype --enable-libfribidi --enable-libgme --enable-libgsm --enable-libjack --enable-libmp3lame --enable-libmysofa --enable-libopenjpeg --enable-libopenmpt --enable-libopus --enable-libpulse --enable-librabbitmq --enable-librubberband --enable-libshine --enable-libsnappy --enable-libsoxr --enable-libspeex --enable-libsrt --enable-libssh --enable-libtheora --enable-libtwolame --enable-libvidstab --enable-libvorbis --enable-libvpx --enable-libwebp --enable-libx265 --enable-libxml2 --enable-libxvid --enable-libzimg --enable-libzmq --enable-libzvbi --enable-lv2 --enable-omx --enable-openal --enable-opencl --enable-opengl --enable-sdl2 --enable-pocketsphinx --enable-librsvg --enable-libmfx --enable-libdc1394 --enable-libdrm --enable-libiec61883 --enable-chromaprint --enable-frei0r --enable-libx264 --enable-shared\n",
            "  libavutil      56. 70.100 / 56. 70.100\n",
            "  libavcodec     58.134.100 / 58.134.100\n",
            "  libavformat    58. 76.100 / 58. 76.100\n",
            "  libavdevice    58. 13.100 / 58. 13.100\n",
            "  libavfilter     7.110.100 /  7.110.100\n",
            "  libswscale      5.  9.100 /  5.  9.100\n",
            "  libswresample   3.  9.100 /  3.  9.100\n",
            "  libpostproc    55.  9.100 / 55.  9.100\n",
            "\u001b[0;33mGuessed Channel Layout for Input Stream #0.0 : mono\n",
            "\u001b[0mInput #0, wav, from '/content/input_audio.wav':\n",
            "  Duration: 00:00:13.99, bitrate: 384 kb/s\n",
            "  Stream #0:0: Audio: pcm_s16le ([1][0][0][0] / 0x0001), 24000 Hz, mono, s16, 384 kb/s\n",
            "Input #1, avi, from 'temp/result.avi':\n",
            "  Metadata:\n",
            "    software        : Lavf59.27.100\n",
            "  Duration: 00:00:13.88, start: 0.000000, bitrate: 1190 kb/s\n",
            "  Stream #1:0: Video: mpeg4 (Simple Profile) (DIVX / 0x58564944), yuv420p, 564x984 [SAR 1:1 DAR 47:82], 1186 kb/s, 24 fps, 24 tbr, 24 tbn, 24 tbc\n",
            "Stream mapping:\n",
            "  Stream #1:0 -> #0:0 (mpeg4 (native) -> h264 (libx264))\n",
            "  Stream #0:0 -> #0:1 (pcm_s16le (native) -> aac (native))\n",
            "Press [q] to stop, [?] for help\n",
            "\u001b[1;36m[libx264 @ 0x55ea5f6ace00] \u001b[0m\u001b[0;33m-qscale is ignored, -crf is recommended.\n",
            "\u001b[0m\u001b[1;36m[libx264 @ 0x55ea5f6ace00] \u001b[0musing SAR=1/1\n",
            "\u001b[1;36m[libx264 @ 0x55ea5f6ace00] \u001b[0musing cpu capabilities: MMX2 SSE2Fast SSSE3 SSE4.2 AVX FMA3 BMI2 AVX2\n",
            "\u001b[1;36m[libx264 @ 0x55ea5f6ace00] \u001b[0mprofile High, level 3.1, 4:2:0, 8-bit\n",
            "\u001b[1;36m[libx264 @ 0x55ea5f6ace00] \u001b[0m264 - core 163 r3060 5db6aa6 - H.264/MPEG-4 AVC codec - Copyleft 2003-2021 - http://www.videolan.org/x264.html - options: cabac=1 ref=3 deblock=1:0:0 analyse=0x3:0x113 me=hex subme=7 psy=1 psy_rd=1.00:0.00 mixed_ref=1 me_range=16 chroma_me=1 trellis=1 8x8dct=1 cqm=0 deadzone=21,11 fast_pskip=1 chroma_qp_offset=-2 threads=3 lookahead_threads=1 sliced_threads=0 nr=0 decimate=1 interlaced=0 bluray_compat=0 constrained_intra=0 bframes=3 b_pyramid=2 b_adapt=1 b_bias=0 direct=1 weightb=1 open_gop=0 weightp=2 keyint=250 keyint_min=24 scenecut=40 intra_refresh=0 rc_lookahead=40 rc=crf mbtree=1 crf=23.0 qcomp=0.60 qpmin=0 qpmax=69 qpstep=4 ip_ratio=1.40 aq=1:1.00\n",
            "Output #0, mp4, to 'results/result_voice.mp4':\n",
            "  Metadata:\n",
            "    encoder         : Lavf58.76.100\n",
            "  Stream #0:0: Video: h264 (avc1 / 0x31637661), yuv420p(progressive), 564x984 [SAR 1:1 DAR 47:82], q=2-31, 24 fps, 12288 tbn\n",
            "    Metadata:\n",
            "      encoder         : Lavc58.134.100 libx264\n",
            "    Side data:\n",
            "      cpb: bitrate max/min/avg: 0/0/0 buffer size: 0 vbv_delay: N/A\n",
            "  Stream #0:1: Audio: aac (LC) (mp4a / 0x6134706D), 24000 Hz, mono, fltp, 69 kb/s\n",
            "    Metadata:\n",
            "      encoder         : Lavc58.134.100 aac\n",
            "frame=  333 fps= 48 q=-1.0 Lsize=     667kB time=00:00:13.95 bitrate= 391.9kbits/s speed=2.01x    \n",
            "video:538kB audio:120kB subtitle:0kB other streams:0kB global headers:0kB muxing overhead: 1.371568%\n",
            "\u001b[1;36m[libx264 @ 0x55ea5f6ace00] \u001b[0mframe I:2     Avg QP:17.42  size: 49964\n",
            "\u001b[1;36m[libx264 @ 0x55ea5f6ace00] \u001b[0mframe P:153   Avg QP:19.00  size:  2277\n",
            "\u001b[1;36m[libx264 @ 0x55ea5f6ace00] \u001b[0mframe B:178   Avg QP:23.58  size:   575\n",
            "\u001b[1;36m[libx264 @ 0x55ea5f6ace00] \u001b[0mconsecutive B-frames: 21.6% 19.2%  6.3% 52.9%\n",
            "\u001b[1;36m[libx264 @ 0x55ea5f6ace00] \u001b[0mmb I  I16..4: 10.0% 87.4%  2.6%\n",
            "\u001b[1;36m[libx264 @ 0x55ea5f6ace00] \u001b[0mmb P  I16..4:  0.1%  2.1%  0.0%  P16..4: 13.3%  3.3%  1.9%  0.0%  0.0%    skip:79.2%\n",
            "\u001b[1;36m[libx264 @ 0x55ea5f6ace00] \u001b[0mmb B  I16..4:  0.0%  0.3%  0.0%  B16..8: 10.0%  0.8%  0.1%  direct: 0.2%  skip:88.6%  L0:54.1% L1:43.3% BI: 2.6%\n",
            "\u001b[1;36m[libx264 @ 0x55ea5f6ace00] \u001b[0m8x8 transform intra:90.4% inter:94.0%\n",
            "\u001b[1;36m[libx264 @ 0x55ea5f6ace00] \u001b[0mcoded y,uvDC,uvAC intra: 79.1% 68.7% 8.7% inter: 3.6% 3.5% 0.1%\n",
            "\u001b[1;36m[libx264 @ 0x55ea5f6ace00] \u001b[0mi16 v,h,dc,p: 19% 38% 15% 28%\n",
            "\u001b[1;36m[libx264 @ 0x55ea5f6ace00] \u001b[0mi8 v,h,dc,ddl,ddr,vr,hd,vl,hu: 23% 26% 24%  3%  5%  5%  5%  5%  4%\n",
            "\u001b[1;36m[libx264 @ 0x55ea5f6ace00] \u001b[0mi4 v,h,dc,ddl,ddr,vr,hd,vl,hu: 35% 31%  8%  3%  5%  7%  5%  3%  3%\n",
            "\u001b[1;36m[libx264 @ 0x55ea5f6ace00] \u001b[0mi8c dc,h,v,p: 42% 27% 23%  8%\n",
            "\u001b[1;36m[libx264 @ 0x55ea5f6ace00] \u001b[0mWeighted P-Frames: Y:0.0% UV:0.0%\n",
            "\u001b[1;36m[libx264 @ 0x55ea5f6ace00] \u001b[0mref P L0: 65.6% 13.0% 13.6%  7.8%\n",
            "\u001b[1;36m[libx264 @ 0x55ea5f6ace00] \u001b[0mref B L0: 80.4% 15.1%  4.6%\n",
            "\u001b[1;36m[libx264 @ 0x55ea5f6ace00] \u001b[0mref B L1: 94.3%  5.7%\n",
            "\u001b[1;36m[libx264 @ 0x55ea5f6ace00] \u001b[0mkb/s:317.48\n",
            "\u001b[1;36m[aac @ 0x55ea5f6ae700] \u001b[0mQavg: 147.993\n"
          ]
        }
      ],
      "source": [
        "!cd Wav2Lip && python inference.py --checkpoint_path checkpoints/wav2lip_gan.pth --face \"/content/mute_video.mp4\" --audio \"/content/input_audio.wav\"\n"
      ]
    },
    {
      "cell_type": "code",
      "execution_count": null,
      "metadata": {
        "cellView": "form",
        "colab": {
          "base_uri": "https://localhost:8080/",
          "height": 691
        },
        "id": "WxbzXZvLliiA",
        "outputId": "15421477-e638-462b-ac37-406a50888855"
      },
      "outputs": [
        {
          "output_type": "execute_result",
          "data": {
            "text/plain": [
              "<IPython.core.display.HTML object>"
            ],
            "text/html": [
              "\n",
              "<video width=\"50%\" height=\"50%\" controls>\n",
              "      <source src=\"data:video/mp4;base64,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\" type=\"video/mp4\">\n",
              "</video>"
            ]
          },
          "metadata": {},
          "execution_count": 8
        }
      ],
      "source": [
        "#@title 3.Play result video -  50% scaling\n",
        "from IPython.display import HTML\n",
        "from base64 import b64encode\n",
        "mp4 = open('/content/Wav2Lip/results/result_voice.mp4','rb').read()\n",
        "data_url = \"data:video/mp4;base64,\" + b64encode(mp4).decode()\n",
        "HTML(f\"\"\"\n",
        "<video width=\"50%\" height=\"50%\" controls>\n",
        "      <source src=\"{data_url}\" type=\"video/mp4\">\n",
        "</video>\"\"\")"
      ]
    },
    {
      "cell_type": "code",
      "execution_count": null,
      "metadata": {
        "cellView": "form",
        "colab": {
          "base_uri": "https://localhost:8080/",
          "height": 17
        },
        "id": "1kt-krsEbz5j",
        "outputId": "7df541e8-29a3-4d85-d5c4-935ca14de2a0"
      },
      "outputs": [
        {
          "output_type": "display_data",
          "data": {
            "text/plain": [
              "<IPython.core.display.Javascript object>"
            ],
            "application/javascript": [
              "\n",
              "    async function download(id, filename, size) {\n",
              "      if (!google.colab.kernel.accessAllowed) {\n",
              "        return;\n",
              "      }\n",
              "      const div = document.createElement('div');\n",
              "      const label = document.createElement('label');\n",
              "      label.textContent = `Downloading \"${filename}\": `;\n",
              "      div.appendChild(label);\n",
              "      const progress = document.createElement('progress');\n",
              "      progress.max = size;\n",
              "      div.appendChild(progress);\n",
              "      document.body.appendChild(div);\n",
              "\n",
              "      const buffers = [];\n",
              "      let downloaded = 0;\n",
              "\n",
              "      const channel = await google.colab.kernel.comms.open(id);\n",
              "      // Send a message to notify the kernel that we're ready.\n",
              "      channel.send({})\n",
              "\n",
              "      for await (const message of channel.messages) {\n",
              "        // Send a message to notify the kernel that we're ready.\n",
              "        channel.send({})\n",
              "        if (message.buffers) {\n",
              "          for (const buffer of message.buffers) {\n",
              "            buffers.push(buffer);\n",
              "            downloaded += buffer.byteLength;\n",
              "            progress.value = downloaded;\n",
              "          }\n",
              "        }\n",
              "      }\n",
              "      const blob = new Blob(buffers, {type: 'application/binary'});\n",
              "      const a = document.createElement('a');\n",
              "      a.href = window.URL.createObjectURL(blob);\n",
              "      a.download = filename;\n",
              "      div.appendChild(a);\n",
              "      a.click();\n",
              "      div.remove();\n",
              "    }\n",
              "  "
            ]
          },
          "metadata": {}
        },
        {
          "output_type": "display_data",
          "data": {
            "text/plain": [
              "<IPython.core.display.Javascript object>"
            ],
            "application/javascript": [
              "download(\"download_27de4aa4-7d89-40fb-a45c-e515a96543b8\", \"result_voice.mp4\", 683439)"
            ]
          },
          "metadata": {}
        }
      ],
      "source": [
        "#@title 4.Download Result.mp4 to your computer\n",
        "from google.colab import files\n",
        "files.download('/content/Wav2Lip/results/result_voice.mp4')"
      ]
    },
    {
      "cell_type": "code",
      "execution_count": null,
      "metadata": {
        "cellView": "form",
        "id": "fT8njpBCJ7gD"
      },
      "outputs": [],
      "source": [
        "#@title 5. Delete old uploaded samples & result files, so you can start over again.\n",
        "%rm /content/sample_data/*\n",
        "%rm /content/Wav2Lip/results/*\n",
        "from IPython.display import clear_output\n",
        "clear_output()\n",
        "print(\"\\nDone! now press X\")"
      ]
    },
    {
      "cell_type": "markdown",
      "metadata": {
        "id": "BgMkHOFqT2fK"
      },
      "source": [
        "\n",
        "\n",
        "---\n",
        "\n"
      ]
    },
    {
      "cell_type": "code",
      "execution_count": null,
      "metadata": {
        "cellView": "form",
        "colab": {
          "background_save": true
        },
        "id": "2OhT0w2uT4rQ"
      },
      "outputs": [],
      "source": [
        "#@title 1-4. Batch processing - Upload -> process -> download -> play result\n",
        "%cd sample_data/\n",
        "%rm input_audio.wav\n",
        "%rm input_video.mp4\n",
        "from google.colab import files\n",
        "uploaded = files.upload()\n",
        "%cd ..\n",
        "!cd Wav2Lip && python inference.py --checkpoint_path checkpoints/wav2lip_gan.pth --face \"/content/sample_data/input_video.mp4\" --audio \"/content/sample_data/input_audio.wav\"\n",
        "from google.colab import files\n",
        "files.download('/content/Wav2Lip/results/result_voice.mp4')\n",
        "from IPython.display import HTML\n",
        "from base64 import b64encode\n",
        "mp4 = open('/content/Wav2Lip/results/result_voice.mp4','rb').read()\n",
        "data_url = \"data:video/mp4;base64,\" + b64encode(mp4).decode()\n",
        "HTML(f\"\"\"\n",
        "<video width=\"50%\" height=\"50%\" controls>\n",
        "      <source src=\"{data_url}\" type=\"video/mp4\">\n",
        "</video>\"\"\")"
      ]
    },
    {
      "cell_type": "markdown",
      "metadata": {
        "id": "q9NvwrJ3vRcs"
      },
      "source": [
        "\n",
        "\n",
        "---\n",
        "\n"
      ]
    },
    {
      "cell_type": "markdown",
      "metadata": {
        "id": "d7zgfrQqbKom"
      },
      "source": [
        "# **Variations to try**\n"
      ]
    },
    {
      "cell_type": "code",
      "execution_count": null,
      "metadata": {
        "cellView": "form",
        "id": "xw0xFtZ2bsx8"
      },
      "outputs": [],
      "source": [
        "#@title 2.Use resize_factor to reduce the video resolution, as there is a change you might get better results for lower resolution videos. Why? Because the model was trained on low resolution faces.\n",
        "!cd Wav2Lip && python inference.py --checkpoint_path checkpoints/wav2lip_gan.pth --face \"/content/sample_data/input_video.mp4\" --audio \"/content/sample_data/input_audio.wav\" --resize_factor 2"
      ]
    },
    {
      "cell_type": "code",
      "execution_count": null,
      "metadata": {
        "cellView": "form",
        "id": "45XW4SZAzIz5"
      },
      "outputs": [],
      "source": [
        "#@title 3.Use more padding to include the chin region (u can manually edit pads dimensions viewing and changing the code)\n",
        "!cd Wav2Lip && python inference.py --checkpoint_path checkpoints/wav2lip_gan.pth --face \"/content/sample_data/input_video.mp4\" --audio \"/content/sample_data/input_audio.wav\" --pads 0 20 0 0"
      ]
    },
    {
      "cell_type": "code",
      "execution_count": null,
      "metadata": {
        "cellView": "form",
        "colab": {
          "background_save": true
        },
        "id": "X1Z0zRdZR5BZ"
      },
      "outputs": [],
      "source": [
        "#@title 4.Play result video -  50% scaling\n",
        "from IPython.display import HTML\n",
        "from base64 import b64encode\n",
        "mp4 = open('/content/Wav2Lip/results/result_voice.mp4','rb').read()\n",
        "data_url = \"data:video/mp4;base64,\" + b64encode(mp4).decode()\n",
        "HTML(f\"\"\"\n",
        "<video width=\"50%\" height=\"50%\" controls>\n",
        "      <source src=\"{data_url}\" type=\"video/mp4\">\n",
        "</video>\"\"\")"
      ]
    },
    {
      "cell_type": "code",
      "execution_count": null,
      "metadata": {
        "cellView": "form",
        "id": "gfXFOpAmR_dh"
      },
      "outputs": [],
      "source": [
        "#@title 5.Download Result.mp4 to your computer\n",
        "from google.colab import files\n",
        "files.download('/content/Wav2Lip/results/result_voice.mp4')"
      ]
    }
  ],
  "metadata": {
    "accelerator": "GPU",
    "colab": {
      "provenance": [],
      "gpuType": "T4"
    },
    "kernelspec": {
      "display_name": "Python 3",
      "name": "python3"
    }
  },
  "nbformat": 4,
  "nbformat_minor": 0
}